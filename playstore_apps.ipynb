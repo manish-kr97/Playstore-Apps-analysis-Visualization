{
 "cells": [
  {
   "cell_type": "code",
   "execution_count": 452,
   "id": "e11d982d",
   "metadata": {},
   "outputs": [],
   "source": [
    "#Importing important libraries\n",
    "import pandas as pd\n",
    "import numpy as np"
   ]
  },
  {
   "cell_type": "code",
   "execution_count": 453,
   "id": "aad7f5eb",
   "metadata": {},
   "outputs": [],
   "source": [
    "#Lets read the file\n",
    "file=pd.read_csv(\"playstore_apps.csv\")"
   ]
  },
  {
   "cell_type": "code",
   "execution_count": 454,
   "id": "408c97c1",
   "metadata": {
    "scrolled": true
   },
   "outputs": [
    {
     "data": {
      "text/html": [
       "<div>\n",
       "<style scoped>\n",
       "    .dataframe tbody tr th:only-of-type {\n",
       "        vertical-align: middle;\n",
       "    }\n",
       "\n",
       "    .dataframe tbody tr th {\n",
       "        vertical-align: top;\n",
       "    }\n",
       "\n",
       "    .dataframe thead th {\n",
       "        text-align: right;\n",
       "    }\n",
       "</style>\n",
       "<table border=\"1\" class=\"dataframe\">\n",
       "  <thead>\n",
       "    <tr style=\"text-align: right;\">\n",
       "      <th></th>\n",
       "      <th>App</th>\n",
       "      <th>Category</th>\n",
       "      <th>Rating</th>\n",
       "      <th>Reviews</th>\n",
       "      <th>Size</th>\n",
       "      <th>Installs</th>\n",
       "      <th>Type</th>\n",
       "      <th>Price</th>\n",
       "      <th>Content Rating</th>\n",
       "      <th>Genres</th>\n",
       "      <th>Last Updated</th>\n",
       "      <th>Current Ver</th>\n",
       "      <th>Android Ver</th>\n",
       "    </tr>\n",
       "  </thead>\n",
       "  <tbody>\n",
       "    <tr>\n",
       "      <th>2884</th>\n",
       "      <td>Google Photos</td>\n",
       "      <td>PHOTOGRAPHY</td>\n",
       "      <td>4.5</td>\n",
       "      <td>10859051.0</td>\n",
       "      <td>Varies with device</td>\n",
       "      <td>1.000000e+09</td>\n",
       "      <td>Free</td>\n",
       "      <td>0.0</td>\n",
       "      <td>Everyone</td>\n",
       "      <td>Photography</td>\n",
       "      <td>06-08-2018</td>\n",
       "      <td>Varies with device</td>\n",
       "      <td>Varies with device</td>\n",
       "    </tr>\n",
       "    <tr>\n",
       "      <th>2851</th>\n",
       "      <td>Beauty Makeup – Photo Makeover</td>\n",
       "      <td>PHOTOGRAPHY</td>\n",
       "      <td>4.3</td>\n",
       "      <td>21730.0</td>\n",
       "      <td>19M</td>\n",
       "      <td>1.000000e+06</td>\n",
       "      <td>Free</td>\n",
       "      <td>0.0</td>\n",
       "      <td>Everyone</td>\n",
       "      <td>Photography</td>\n",
       "      <td>23-05-2018</td>\n",
       "      <td>1.6.0</td>\n",
       "      <td>4.0 and up</td>\n",
       "    </tr>\n",
       "    <tr>\n",
       "      <th>482</th>\n",
       "      <td>Zoosk Dating App: Meet Singles</td>\n",
       "      <td>DATING</td>\n",
       "      <td>4.0</td>\n",
       "      <td>516801.0</td>\n",
       "      <td>Varies with device</td>\n",
       "      <td>1.000000e+07</td>\n",
       "      <td>Free</td>\n",
       "      <td>0.0</td>\n",
       "      <td>Mature 17+</td>\n",
       "      <td>Dating</td>\n",
       "      <td>02-08-2018</td>\n",
       "      <td>Varies with device</td>\n",
       "      <td>Varies with device</td>\n",
       "    </tr>\n",
       "    <tr>\n",
       "      <th>1733</th>\n",
       "      <td>Farm Heroes Saga</td>\n",
       "      <td>GAME</td>\n",
       "      <td>4.4</td>\n",
       "      <td>7614271.0</td>\n",
       "      <td>70M</td>\n",
       "      <td>1.000000e+08</td>\n",
       "      <td>Free</td>\n",
       "      <td>0.0</td>\n",
       "      <td>Everyone</td>\n",
       "      <td>Casual</td>\n",
       "      <td>26-07-2018</td>\n",
       "      <td>5.1.8</td>\n",
       "      <td>2.3 and up</td>\n",
       "    </tr>\n",
       "    <tr>\n",
       "      <th>914</th>\n",
       "      <td>STARZ</td>\n",
       "      <td>ENTERTAINMENT</td>\n",
       "      <td>4.3</td>\n",
       "      <td>88185.0</td>\n",
       "      <td>Varies with device</td>\n",
       "      <td>1.000000e+07</td>\n",
       "      <td>Free</td>\n",
       "      <td>0.0</td>\n",
       "      <td>Mature 17+</td>\n",
       "      <td>Entertainment</td>\n",
       "      <td>20-06-2018</td>\n",
       "      <td>Varies with device</td>\n",
       "      <td>Varies with device</td>\n",
       "    </tr>\n",
       "    <tr>\n",
       "      <th>10539</th>\n",
       "      <td>FK Vardar</td>\n",
       "      <td>SPORTS</td>\n",
       "      <td>NaN</td>\n",
       "      <td>2.0</td>\n",
       "      <td>26M</td>\n",
       "      <td>1.000000e+01</td>\n",
       "      <td>Free</td>\n",
       "      <td>0.0</td>\n",
       "      <td>Everyone</td>\n",
       "      <td>Sports</td>\n",
       "      <td>20-02-2018</td>\n",
       "      <td>1</td>\n",
       "      <td>4.1 and up</td>\n",
       "    </tr>\n",
       "    <tr>\n",
       "      <th>2219</th>\n",
       "      <td>Shopkins World!</td>\n",
       "      <td>FAMILY</td>\n",
       "      <td>4.3</td>\n",
       "      <td>169609.0</td>\n",
       "      <td>34M</td>\n",
       "      <td>1.000000e+07</td>\n",
       "      <td>Free</td>\n",
       "      <td>0.0</td>\n",
       "      <td>Everyone</td>\n",
       "      <td>Arcade;Action &amp; Adventure</td>\n",
       "      <td>13-06-2018</td>\n",
       "      <td>3.6.1</td>\n",
       "      <td>4.1 and up</td>\n",
       "    </tr>\n",
       "    <tr>\n",
       "      <th>8281</th>\n",
       "      <td>DC-014</td>\n",
       "      <td>PHOTOGRAPHY</td>\n",
       "      <td>5.0</td>\n",
       "      <td>3.0</td>\n",
       "      <td>16M</td>\n",
       "      <td>5.000000e+02</td>\n",
       "      <td>Free</td>\n",
       "      <td>0.0</td>\n",
       "      <td>Everyone</td>\n",
       "      <td>Photography</td>\n",
       "      <td>14-06-2018</td>\n",
       "      <td>1.0.3</td>\n",
       "      <td>4.1 and up</td>\n",
       "    </tr>\n",
       "    <tr>\n",
       "      <th>559</th>\n",
       "      <td>95Live -SG#1 Live Streaming App</td>\n",
       "      <td>DATING</td>\n",
       "      <td>4.1</td>\n",
       "      <td>4953.0</td>\n",
       "      <td>15M</td>\n",
       "      <td>1.000000e+06</td>\n",
       "      <td>Free</td>\n",
       "      <td>0.0</td>\n",
       "      <td>Teen</td>\n",
       "      <td>Dating</td>\n",
       "      <td>01-08-2018</td>\n",
       "      <td>8.7.2</td>\n",
       "      <td>4.2 and up</td>\n",
       "    </tr>\n",
       "    <tr>\n",
       "      <th>3508</th>\n",
       "      <td>Any.do: To-do list, Calendar, Reminders &amp; Planner</td>\n",
       "      <td>PRODUCTIVITY</td>\n",
       "      <td>4.5</td>\n",
       "      <td>298843.0</td>\n",
       "      <td>Varies with device</td>\n",
       "      <td>1.000000e+07</td>\n",
       "      <td>Free</td>\n",
       "      <td>0.0</td>\n",
       "      <td>Everyone</td>\n",
       "      <td>Productivity</td>\n",
       "      <td>05-08-2018</td>\n",
       "      <td>Varies with device</td>\n",
       "      <td>Varies with device</td>\n",
       "    </tr>\n",
       "  </tbody>\n",
       "</table>\n",
       "</div>"
      ],
      "text/plain": [
       "                                                     App       Category  \\\n",
       "2884                                       Google Photos    PHOTOGRAPHY   \n",
       "2851                      Beauty Makeup – Photo Makeover    PHOTOGRAPHY   \n",
       "482                       Zoosk Dating App: Meet Singles         DATING   \n",
       "1733                                    Farm Heroes Saga           GAME   \n",
       "914                                                STARZ  ENTERTAINMENT   \n",
       "10539                                          FK Vardar         SPORTS   \n",
       "2219                                     Shopkins World!         FAMILY   \n",
       "8281                                              DC-014    PHOTOGRAPHY   \n",
       "559                      95Live -SG#1 Live Streaming App         DATING   \n",
       "3508   Any.do: To-do list, Calendar, Reminders & Planner   PRODUCTIVITY   \n",
       "\n",
       "       Rating     Reviews                Size      Installs  Type  Price  \\\n",
       "2884      4.5  10859051.0  Varies with device  1.000000e+09  Free    0.0   \n",
       "2851      4.3     21730.0                 19M  1.000000e+06  Free    0.0   \n",
       "482       4.0    516801.0  Varies with device  1.000000e+07  Free    0.0   \n",
       "1733      4.4   7614271.0                 70M  1.000000e+08  Free    0.0   \n",
       "914       4.3     88185.0  Varies with device  1.000000e+07  Free    0.0   \n",
       "10539     NaN         2.0                 26M  1.000000e+01  Free    0.0   \n",
       "2219      4.3    169609.0                 34M  1.000000e+07  Free    0.0   \n",
       "8281      5.0         3.0                 16M  5.000000e+02  Free    0.0   \n",
       "559       4.1      4953.0                 15M  1.000000e+06  Free    0.0   \n",
       "3508      4.5    298843.0  Varies with device  1.000000e+07  Free    0.0   \n",
       "\n",
       "      Content Rating                     Genres Last Updated  \\\n",
       "2884        Everyone                Photography   06-08-2018   \n",
       "2851        Everyone                Photography   23-05-2018   \n",
       "482       Mature 17+                     Dating   02-08-2018   \n",
       "1733        Everyone                     Casual   26-07-2018   \n",
       "914       Mature 17+              Entertainment   20-06-2018   \n",
       "10539       Everyone                     Sports   20-02-2018   \n",
       "2219        Everyone  Arcade;Action & Adventure   13-06-2018   \n",
       "8281        Everyone                Photography   14-06-2018   \n",
       "559             Teen                     Dating   01-08-2018   \n",
       "3508        Everyone               Productivity   05-08-2018   \n",
       "\n",
       "              Current Ver         Android Ver  \n",
       "2884   Varies with device  Varies with device  \n",
       "2851                1.6.0          4.0 and up  \n",
       "482    Varies with device  Varies with device  \n",
       "1733                5.1.8          2.3 and up  \n",
       "914    Varies with device  Varies with device  \n",
       "10539                   1          4.1 and up  \n",
       "2219                3.6.1          4.1 and up  \n",
       "8281                1.0.3          4.1 and up  \n",
       "559                 8.7.2          4.2 and up  \n",
       "3508   Varies with device  Varies with device  "
      ]
     },
     "execution_count": 454,
     "metadata": {},
     "output_type": "execute_result"
    }
   ],
   "source": [
    "#Lets check some data\n",
    "file.sample(10)\n"
   ]
  },
  {
   "cell_type": "code",
   "execution_count": 455,
   "id": "bfc11aad",
   "metadata": {},
   "outputs": [
    {
     "data": {
      "text/plain": [
       "(10841, 13)"
      ]
     },
     "execution_count": 455,
     "metadata": {},
     "output_type": "execute_result"
    }
   ],
   "source": [
    "#Lets check the number of rows and columns in dataset\n",
    "file.shape\n"
   ]
  },
  {
   "cell_type": "code",
   "execution_count": 456,
   "id": "40396304",
   "metadata": {},
   "outputs": [
    {
     "name": "stdout",
     "output_type": "stream",
     "text": [
      "<class 'pandas.core.frame.DataFrame'>\n",
      "RangeIndex: 10841 entries, 0 to 10840\n",
      "Data columns (total 13 columns):\n",
      " #   Column          Non-Null Count  Dtype  \n",
      "---  ------          --------------  -----  \n",
      " 0   App             10841 non-null  object \n",
      " 1   Category        10841 non-null  object \n",
      " 2   Rating          9367 non-null   float64\n",
      " 3   Reviews         10840 non-null  float64\n",
      " 4   Size            10841 non-null  object \n",
      " 5   Installs        10840 non-null  float64\n",
      " 6   Type            10840 non-null  object \n",
      " 7   Price           10840 non-null  float64\n",
      " 8   Content Rating  10840 non-null  object \n",
      " 9   Genres          10841 non-null  object \n",
      " 10  Last Updated    10840 non-null  object \n",
      " 11  Current Ver     10833 non-null  object \n",
      " 12  Android Ver     10838 non-null  object \n",
      "dtypes: float64(4), object(9)\n",
      "memory usage: 1.1+ MB\n"
     ]
    }
   ],
   "source": [
    "#Lets check few more details of dataset\n",
    "file.info()"
   ]
  },
  {
   "cell_type": "code",
   "execution_count": 457,
   "id": "00af3197",
   "metadata": {},
   "outputs": [
    {
     "data": {
      "text/plain": [
       "App                  0\n",
       "Category             0\n",
       "Rating            1474\n",
       "Reviews              1\n",
       "Size                 0\n",
       "Installs             1\n",
       "Type                 1\n",
       "Price                1\n",
       "Content Rating       1\n",
       "Genres               0\n",
       "Last Updated         1\n",
       "Current Ver          8\n",
       "Android Ver          3\n",
       "dtype: int64"
      ]
     },
     "execution_count": 457,
     "metadata": {},
     "output_type": "execute_result"
    }
   ],
   "source": [
    "#To see total null values in each column\n",
    "file.isnull().sum()"
   ]
  },
  {
   "cell_type": "code",
   "execution_count": 458,
   "id": "b342c77a",
   "metadata": {},
   "outputs": [
    {
     "data": {
      "text/plain": [
       "App               9660\n",
       "Category            34\n",
       "Rating              40\n",
       "Reviews           6001\n",
       "Size               462\n",
       "Installs            20\n",
       "Type                 3\n",
       "Price               92\n",
       "Content Rating       6\n",
       "Genres             120\n",
       "Last Updated      1377\n",
       "Current Ver       2784\n",
       "Android Ver         33\n",
       "dtype: int64"
      ]
     },
     "execution_count": 458,
     "metadata": {},
     "output_type": "execute_result"
    }
   ],
   "source": [
    "#Lets check how many unique values it column contains\n",
    "file.nunique()"
   ]
  },
  {
   "cell_type": "markdown",
   "id": "a113cbad",
   "metadata": {},
   "source": [
    "The columns that contains fewer unique values means they are categorical variables."
   ]
  },
  {
   "cell_type": "code",
   "execution_count": 459,
   "id": "001c9804",
   "metadata": {},
   "outputs": [
    {
     "data": {
      "text/plain": [
       "483"
      ]
     },
     "execution_count": 459,
     "metadata": {},
     "output_type": "execute_result"
    }
   ],
   "source": [
    "#Lets check how many duplicate rows are there\n",
    "file.duplicated().sum()"
   ]
  },
  {
   "cell_type": "code",
   "execution_count": 422,
   "id": "c56cd040",
   "metadata": {},
   "outputs": [],
   "source": [
    "#Now lets check App column as due to error in scraping many charcters in App column has been replaced with other characters \n",
    "#mainly by ? symbol"
   ]
  },
  {
   "cell_type": "code",
   "execution_count": 460,
   "id": "88a5c8b8",
   "metadata": {},
   "outputs": [
    {
     "data": {
      "text/html": [
       "<div>\n",
       "<style scoped>\n",
       "    .dataframe tbody tr th:only-of-type {\n",
       "        vertical-align: middle;\n",
       "    }\n",
       "\n",
       "    .dataframe tbody tr th {\n",
       "        vertical-align: top;\n",
       "    }\n",
       "\n",
       "    .dataframe thead th {\n",
       "        text-align: right;\n",
       "    }\n",
       "</style>\n",
       "<table border=\"1\" class=\"dataframe\">\n",
       "  <thead>\n",
       "    <tr style=\"text-align: right;\">\n",
       "      <th></th>\n",
       "      <th>App</th>\n",
       "      <th>Category</th>\n",
       "      <th>Rating</th>\n",
       "      <th>Reviews</th>\n",
       "      <th>Size</th>\n",
       "      <th>Installs</th>\n",
       "      <th>Type</th>\n",
       "      <th>Price</th>\n",
       "      <th>Content Rating</th>\n",
       "      <th>Genres</th>\n",
       "      <th>Last Updated</th>\n",
       "      <th>Current Ver</th>\n",
       "      <th>Android Ver</th>\n",
       "    </tr>\n",
       "  </thead>\n",
       "  <tbody>\n",
       "    <tr>\n",
       "      <th>139</th>\n",
       "      <td>Wattpad ?? Free Books</td>\n",
       "      <td>BOOKS_AND_REFERENCE</td>\n",
       "      <td>4.6</td>\n",
       "      <td>2914724.0</td>\n",
       "      <td>Varies with device</td>\n",
       "      <td>100000000.0</td>\n",
       "      <td>Free</td>\n",
       "      <td>0.0</td>\n",
       "      <td>Teen</td>\n",
       "      <td>Books &amp; Reference</td>\n",
       "      <td>01-08-2018</td>\n",
       "      <td>Varies with device</td>\n",
       "      <td>Varies with device</td>\n",
       "    </tr>\n",
       "    <tr>\n",
       "      <th>309</th>\n",
       "      <td>Truy?n Vui Tý Qu?y</td>\n",
       "      <td>COMICS</td>\n",
       "      <td>4.5</td>\n",
       "      <td>144.0</td>\n",
       "      <td>4.7M</td>\n",
       "      <td>10000.0</td>\n",
       "      <td>Free</td>\n",
       "      <td>0.0</td>\n",
       "      <td>Everyone</td>\n",
       "      <td>Comics</td>\n",
       "      <td>19-07-2018</td>\n",
       "      <td>3</td>\n",
       "      <td>4.0.3 and up</td>\n",
       "    </tr>\n",
       "    <tr>\n",
       "      <th>310</th>\n",
       "      <td>Comic Es - Shojo manga / love comics free of c...</td>\n",
       "      <td>COMICS</td>\n",
       "      <td>3.9</td>\n",
       "      <td>2181.0</td>\n",
       "      <td>10M</td>\n",
       "      <td>100000.0</td>\n",
       "      <td>Free</td>\n",
       "      <td>0.0</td>\n",
       "      <td>Teen</td>\n",
       "      <td>Comics</td>\n",
       "      <td>05-03-2018</td>\n",
       "      <td>1.2.12</td>\n",
       "      <td>4.0.3 and up</td>\n",
       "    </tr>\n",
       "    <tr>\n",
       "      <th>313</th>\n",
       "      <td>?? Comics - Manga,Novel and Stories</td>\n",
       "      <td>COMICS</td>\n",
       "      <td>4.1</td>\n",
       "      <td>12088.0</td>\n",
       "      <td>21M</td>\n",
       "      <td>1000000.0</td>\n",
       "      <td>Free</td>\n",
       "      <td>0.0</td>\n",
       "      <td>Mature 17+</td>\n",
       "      <td>Comics</td>\n",
       "      <td>06-07-2018</td>\n",
       "      <td>2.3.1</td>\n",
       "      <td>4.0.3 and up</td>\n",
       "    </tr>\n",
       "    <tr>\n",
       "      <th>321</th>\n",
       "      <td>?Ranobbe complete free? Novelba - Free app tha...</td>\n",
       "      <td>COMICS</td>\n",
       "      <td>NaN</td>\n",
       "      <td>1330.0</td>\n",
       "      <td>22M</td>\n",
       "      <td>50000.0</td>\n",
       "      <td>Free</td>\n",
       "      <td>0.0</td>\n",
       "      <td>Everyone</td>\n",
       "      <td>Comics</td>\n",
       "      <td>03-07-2018</td>\n",
       "      <td>6.1.1</td>\n",
       "      <td>4.2 and up</td>\n",
       "    </tr>\n",
       "    <tr>\n",
       "      <th>...</th>\n",
       "      <td>...</td>\n",
       "      <td>...</td>\n",
       "      <td>...</td>\n",
       "      <td>...</td>\n",
       "      <td>...</td>\n",
       "      <td>...</td>\n",
       "      <td>...</td>\n",
       "      <td>...</td>\n",
       "      <td>...</td>\n",
       "      <td>...</td>\n",
       "      <td>...</td>\n",
       "      <td>...</td>\n",
       "      <td>...</td>\n",
       "    </tr>\n",
       "    <tr>\n",
       "      <th>10532</th>\n",
       "      <td>Qaraba? FK</td>\n",
       "      <td>SPORTS</td>\n",
       "      <td>NaN</td>\n",
       "      <td>9.0</td>\n",
       "      <td>5.5M</td>\n",
       "      <td>100.0</td>\n",
       "      <td>Free</td>\n",
       "      <td>0.0</td>\n",
       "      <td>Everyone</td>\n",
       "      <td>Sports</td>\n",
       "      <td>01-08-2018</td>\n",
       "      <td>1.14</td>\n",
       "      <td>4.2 and up</td>\n",
       "    </tr>\n",
       "    <tr>\n",
       "      <th>10556</th>\n",
       "      <td>FK Željezni?ar Izzy</td>\n",
       "      <td>FAMILY</td>\n",
       "      <td>4.9</td>\n",
       "      <td>119.0</td>\n",
       "      <td>17M</td>\n",
       "      <td>1000.0</td>\n",
       "      <td>Free</td>\n",
       "      <td>0.0</td>\n",
       "      <td>Everyone</td>\n",
       "      <td>Entertainment</td>\n",
       "      <td>18-11-2016</td>\n",
       "      <td>1</td>\n",
       "      <td>4.4 and up</td>\n",
       "    </tr>\n",
       "    <tr>\n",
       "      <th>10557</th>\n",
       "      <td>FK ?ukari?ki</td>\n",
       "      <td>SPORTS</td>\n",
       "      <td>NaN</td>\n",
       "      <td>0.0</td>\n",
       "      <td>26M</td>\n",
       "      <td>10.0</td>\n",
       "      <td>Free</td>\n",
       "      <td>0.0</td>\n",
       "      <td>Everyone</td>\n",
       "      <td>Sports</td>\n",
       "      <td>19-02-2018</td>\n",
       "      <td>1</td>\n",
       "      <td>4.1 and up</td>\n",
       "    </tr>\n",
       "    <tr>\n",
       "      <th>10565</th>\n",
       "      <td>FK Fotbal T?inec</td>\n",
       "      <td>SPORTS</td>\n",
       "      <td>NaN</td>\n",
       "      <td>0.0</td>\n",
       "      <td>27M</td>\n",
       "      <td>10.0</td>\n",
       "      <td>Free</td>\n",
       "      <td>0.0</td>\n",
       "      <td>Everyone</td>\n",
       "      <td>Sports</td>\n",
       "      <td>18-03-2018</td>\n",
       "      <td>1</td>\n",
       "      <td>4.1 and up</td>\n",
       "    </tr>\n",
       "    <tr>\n",
       "      <th>10763</th>\n",
       "      <td>FP ???????? ???????</td>\n",
       "      <td>FAMILY</td>\n",
       "      <td>4.5</td>\n",
       "      <td>922.0</td>\n",
       "      <td>552k</td>\n",
       "      <td>50000.0</td>\n",
       "      <td>Free</td>\n",
       "      <td>0.0</td>\n",
       "      <td>Everyone</td>\n",
       "      <td>Entertainment</td>\n",
       "      <td>20-09-2014</td>\n",
       "      <td>1.1</td>\n",
       "      <td>1.6 and up</td>\n",
       "    </tr>\n",
       "  </tbody>\n",
       "</table>\n",
       "<p>188 rows × 13 columns</p>\n",
       "</div>"
      ],
      "text/plain": [
       "                                                     App             Category  \\\n",
       "139                                Wattpad ?? Free Books  BOOKS_AND_REFERENCE   \n",
       "309                                   Truy?n Vui Tý Qu?y               COMICS   \n",
       "310    Comic Es - Shojo manga / love comics free of c...               COMICS   \n",
       "313                  ?? Comics - Manga,Novel and Stories               COMICS   \n",
       "321    ?Ranobbe complete free? Novelba - Free app tha...               COMICS   \n",
       "...                                                  ...                  ...   \n",
       "10532                                         Qaraba? FK               SPORTS   \n",
       "10556                                FK Željezni?ar Izzy               FAMILY   \n",
       "10557                                       FK ?ukari?ki               SPORTS   \n",
       "10565                                   FK Fotbal T?inec               SPORTS   \n",
       "10763                                FP ???????? ???????               FAMILY   \n",
       "\n",
       "       Rating    Reviews                Size     Installs  Type  Price  \\\n",
       "139       4.6  2914724.0  Varies with device  100000000.0  Free    0.0   \n",
       "309       4.5      144.0                4.7M      10000.0  Free    0.0   \n",
       "310       3.9     2181.0                 10M     100000.0  Free    0.0   \n",
       "313       4.1    12088.0                 21M    1000000.0  Free    0.0   \n",
       "321       NaN     1330.0                 22M      50000.0  Free    0.0   \n",
       "...       ...        ...                 ...          ...   ...    ...   \n",
       "10532     NaN        9.0                5.5M        100.0  Free    0.0   \n",
       "10556     4.9      119.0                 17M       1000.0  Free    0.0   \n",
       "10557     NaN        0.0                 26M         10.0  Free    0.0   \n",
       "10565     NaN        0.0                 27M         10.0  Free    0.0   \n",
       "10763     4.5      922.0                552k      50000.0  Free    0.0   \n",
       "\n",
       "      Content Rating             Genres Last Updated         Current Ver  \\\n",
       "139             Teen  Books & Reference   01-08-2018  Varies with device   \n",
       "309         Everyone             Comics   19-07-2018                   3   \n",
       "310             Teen             Comics   05-03-2018              1.2.12   \n",
       "313       Mature 17+             Comics   06-07-2018               2.3.1   \n",
       "321         Everyone             Comics   03-07-2018               6.1.1   \n",
       "...              ...                ...          ...                 ...   \n",
       "10532       Everyone             Sports   01-08-2018                1.14   \n",
       "10556       Everyone      Entertainment   18-11-2016                   1   \n",
       "10557       Everyone             Sports   19-02-2018                   1   \n",
       "10565       Everyone             Sports   18-03-2018                   1   \n",
       "10763       Everyone      Entertainment   20-09-2014                 1.1   \n",
       "\n",
       "              Android Ver  \n",
       "139    Varies with device  \n",
       "309          4.0.3 and up  \n",
       "310          4.0.3 and up  \n",
       "313          4.0.3 and up  \n",
       "321            4.2 and up  \n",
       "...                   ...  \n",
       "10532          4.2 and up  \n",
       "10556          4.4 and up  \n",
       "10557          4.1 and up  \n",
       "10565          4.1 and up  \n",
       "10763          1.6 and up  \n",
       "\n",
       "[188 rows x 13 columns]"
      ]
     },
     "execution_count": 460,
     "metadata": {},
     "output_type": "execute_result"
    }
   ],
   "source": [
    "#Lets Check how many such Apps are there having ? character in it\n",
    "file[file['App'].str.contains('?',regex=False)]"
   ]
  },
  {
   "cell_type": "code",
   "execution_count": 461,
   "id": "d61143ad",
   "metadata": {},
   "outputs": [],
   "source": [
    "#Removing all rows that contains \"?\" anywhere in App column\n",
    "file = file[~file['App'].str.contains('?',regex=False)==True]"
   ]
  },
  {
   "cell_type": "code",
   "execution_count": 462,
   "id": "885ac436",
   "metadata": {},
   "outputs": [
    {
     "data": {
      "text/plain": [
       "(10653, 13)"
      ]
     },
     "execution_count": 462,
     "metadata": {},
     "output_type": "execute_result"
    }
   ],
   "source": [
    "#after removing those rows\n",
    "file.shape"
   ]
  },
  {
   "cell_type": "code",
   "execution_count": 463,
   "id": "402119a7",
   "metadata": {},
   "outputs": [],
   "source": [
    "#Lets change the case of App column because it is having different case and is repeating\n",
    "file[\"App\"] = file[\"App\"].str.title()"
   ]
  },
  {
   "cell_type": "code",
   "execution_count": 464,
   "id": "3e7c2515",
   "metadata": {},
   "outputs": [],
   "source": [
    "#For dropping duplicate values we must first sort the values so the latest and \n",
    "#with highest instals and review doesn't get removed\n",
    "file.sort_values(by=['App','Last Updated','Installs','Reviews'],ascending=False,inplace=True)"
   ]
  },
  {
   "cell_type": "code",
   "execution_count": 465,
   "id": "40cf992d",
   "metadata": {},
   "outputs": [],
   "source": [
    "#Lets drop  the Apps and keep first value and remove below duplicates\n",
    "file.drop_duplicates('App',keep=\"first\",inplace=True)"
   ]
  },
  {
   "cell_type": "code",
   "execution_count": 466,
   "id": "00682845",
   "metadata": {},
   "outputs": [
    {
     "data": {
      "text/plain": [
       "(9454, 13)"
      ]
     },
     "execution_count": 466,
     "metadata": {},
     "output_type": "execute_result"
    }
   ],
   "source": [
    "#Lets check the number of rows and columns that are now left\n",
    "file.shape"
   ]
  },
  {
   "cell_type": "code",
   "execution_count": 467,
   "id": "577481ae",
   "metadata": {},
   "outputs": [],
   "source": [
    "#Lets set the first column that is App as index \n",
    "file.set_index('App',inplace=True)\n"
   ]
  },
  {
   "cell_type": "code",
   "execution_count": 468,
   "id": "2c9a3dac",
   "metadata": {},
   "outputs": [
    {
     "name": "stdout",
     "output_type": "stream",
     "text": [
      "['SHOPPING' 'MAPS_AND_NAVIGATION' 'NEWS_AND_MAGAZINES' 'GAME' 'FAMILY'\n",
      " 'COMMUNICATION' 'PERSONALIZATION' 'TOOLS' 'SPORTS' 'HOUSE_AND_HOME'\n",
      " 'AUTO_AND_VEHICLES' 'DATING' 'LIFESTYLE' 'BUSINESS' 'PARENTING'\n",
      " 'HEALTH_AND_FITNESS' 'FOOD_AND_DRINK' 'MEDICAL' 'FINANCE' 'ENTERTAINMENT'\n",
      " 'SOCIAL' 'TRAVEL_AND_LOCAL' 'PHOTOGRAPHY' 'VIDEO_PLAYERS'\n",
      " 'LIBRARIES_AND_DEMO' 'BOOKS_AND_REFERENCE' 'WEATHER' 'PRODUCTIVITY'\n",
      " 'EVENTS' 'ART_AND_DESIGN' 'BEAUTY' 'COMICS' 'EDUCATION' '1.9']\n"
     ]
    }
   ],
   "source": [
    "#Lets check unique values in categorical variables \n",
    "#Lets check unique values in Category Column\n",
    "print(file['Category'].unique())"
   ]
  },
  {
   "cell_type": "markdown",
   "id": "8cc38469",
   "metadata": {},
   "source": [
    "As we can see though data type of Category is string it is having numeric value in it so that row is of no use.\n",
    "Thus we will remove that row"
   ]
  },
  {
   "cell_type": "code",
   "execution_count": 469,
   "id": "fbd65bdc",
   "metadata": {},
   "outputs": [
    {
     "name": "stdout",
     "output_type": "stream",
     "text": [
      "                                        Category  Rating  Reviews    Size  \\\n",
      "App                                                                         \n",
      "Life Made Wi-Fi Touchscreen Photo Frame      1.9    19.0      NaN  1,000+   \n",
      "\n",
      "                                         Installs Type  Price Content Rating  \\\n",
      "App                                                                            \n",
      "Life Made Wi-Fi Touchscreen Photo Frame       NaN    0    NaN            NaN   \n",
      "\n",
      "                                                    Genres Last Updated  \\\n",
      "App                                                                       \n",
      "Life Made Wi-Fi Touchscreen Photo Frame  February 11, 2018          NaN   \n",
      "\n",
      "                                        Current Ver Android Ver  \n",
      "App                                                              \n",
      "Life Made Wi-Fi Touchscreen Photo Frame  4.0 and up         NaN  \n"
     ]
    }
   ],
   "source": [
    "#Lets check for which App the value of category is 1.9\n",
    "print(file[file['Category']=='1.9'])"
   ]
  },
  {
   "cell_type": "code",
   "execution_count": 470,
   "id": "aaf08b28",
   "metadata": {},
   "outputs": [],
   "source": [
    "#So now lets remove the row for this particular app\n",
    "file.drop(\"Life Made Wi-Fi Touchscreen Photo Frame\",inplace=True)"
   ]
  },
  {
   "cell_type": "code",
   "execution_count": 471,
   "id": "149a2270",
   "metadata": {},
   "outputs": [
    {
     "name": "stdout",
     "output_type": "stream",
     "text": [
      "['SHOPPING', 'MAPS_AND_NAVIGATION', 'NEWS_AND_MAGAZINES', 'GAME', 'FAMILY', 'COMMUNICATION', 'PERSONALIZATION', 'TOOLS', 'SPORTS', 'HOUSE_AND_HOME', 'AUTO_AND_VEHICLES', 'DATING', 'LIFESTYLE', 'BUSINESS', 'PARENTING', 'HEALTH_AND_FITNESS', 'FOOD_AND_DRINK', 'MEDICAL', 'FINANCE', 'ENTERTAINMENT', 'SOCIAL', 'TRAVEL_AND_LOCAL', 'PHOTOGRAPHY', 'VIDEO_PLAYERS', 'LIBRARIES_AND_DEMO', 'BOOKS_AND_REFERENCE', 'WEATHER', 'PRODUCTIVITY', 'EVENTS', 'ART_AND_DESIGN', 'BEAUTY', 'COMICS', 'EDUCATION']\n"
     ]
    }
   ],
   "source": [
    "#Lets check unique values in category now to confirm if it got removed or not\n",
    "print(list(file['Category'].unique()))"
   ]
  },
  {
   "cell_type": "code",
   "execution_count": 472,
   "id": "b425e564",
   "metadata": {},
   "outputs": [
    {
     "name": "stdout",
     "output_type": "stream",
     "text": [
      "[3.9 4.2 4.9 3.8 nan 2.9 4.4 4.5 4.  3.2 3.6 4.1 4.6 4.3 3.7 4.7 3.5 5.\n",
      " 4.8 3.1 2.8 1.9 3.4 3.3 2.7 1.8 2.4 2.3 2.5 3.  2.  2.6 1.  2.2 2.1 1.4\n",
      " 1.6 1.5 1.2 1.7]\n"
     ]
    }
   ],
   "source": [
    "#Lets check unique values in Rating column\n",
    "print(file['Rating'].unique())"
   ]
  },
  {
   "cell_type": "code",
   "execution_count": 473,
   "id": "67e0b6af",
   "metadata": {},
   "outputs": [
    {
     "data": {
      "text/plain": [
       "1408"
      ]
     },
     "execution_count": 473,
     "metadata": {},
     "output_type": "execute_result"
    }
   ],
   "source": [
    "#Lets check number of null or na values\n",
    "file['Rating'].isna().sum()"
   ]
  },
  {
   "cell_type": "code",
   "execution_count": 474,
   "id": "c21b1b15",
   "metadata": {},
   "outputs": [
    {
     "name": "stdout",
     "output_type": "stream",
     "text": [
      "['Free' 'Paid' nan]\n"
     ]
    }
   ],
   "source": [
    "#Lets the check unique values in Type column\n",
    "print(file['Type'].unique())"
   ]
  },
  {
   "cell_type": "code",
   "execution_count": 475,
   "id": "7222c2b0",
   "metadata": {},
   "outputs": [
    {
     "data": {
      "text/plain": [
       "1"
      ]
     },
     "execution_count": 475,
     "metadata": {},
     "output_type": "execute_result"
    }
   ],
   "source": [
    "#Lets check how many nan or null values are there in Type column\n",
    "file['Type'].isnull().sum()"
   ]
  },
  {
   "cell_type": "code",
   "execution_count": 442,
   "id": "d2137e52",
   "metadata": {},
   "outputs": [
    {
     "data": {
      "text/plain": [
       "Category             0\n",
       "Rating            1408\n",
       "Reviews              0\n",
       "Size                 0\n",
       "Installs             0\n",
       "Type                 1\n",
       "Price                0\n",
       "Content Rating       0\n",
       "Genres               0\n",
       "Last Updated         0\n",
       "Current Ver          8\n",
       "Android Ver          2\n",
       "dtype: int64"
      ]
     },
     "execution_count": 442,
     "metadata": {},
     "output_type": "execute_result"
    }
   ],
   "source": [
    "file.isna().sum()"
   ]
  },
  {
   "cell_type": "code",
   "execution_count": 476,
   "id": "46b2e79b",
   "metadata": {},
   "outputs": [
    {
     "name": "stdout",
     "output_type": "stream",
     "text": [
      "['Everyone' 'Everyone 10+' 'Teen' 'Mature 17+' 'Adults only 18+' 'Unrated']\n"
     ]
    }
   ],
   "source": [
    "#Lets check  unique values in Content Rating column\n",
    "print(file['Content Rating'].unique())"
   ]
  },
  {
   "cell_type": "code",
   "execution_count": 477,
   "id": "22093fe7",
   "metadata": {},
   "outputs": [
    {
     "data": {
      "text/plain": [
       "0"
      ]
     },
     "execution_count": 477,
     "metadata": {},
     "output_type": "execute_result"
    }
   ],
   "source": [
    "#lets see if this column is having any null or nan values\n",
    "file['Content Rating'].isna().sum()"
   ]
  },
  {
   "cell_type": "code",
   "execution_count": 478,
   "id": "a842ca06",
   "metadata": {},
   "outputs": [
    {
     "data": {
      "text/plain": [
       "['Shopping',\n",
       " 'Maps & Navigation',\n",
       " 'News & Magazines',\n",
       " 'Arcade',\n",
       " 'Education',\n",
       " 'Communication',\n",
       " 'Personalization',\n",
       " 'Tools',\n",
       " 'Sports',\n",
       " 'Entertainment',\n",
       " 'Casino',\n",
       " 'House & Home',\n",
       " 'Auto & Vehicles',\n",
       " 'Education;Education',\n",
       " 'Dating',\n",
       " 'Lifestyle',\n",
       " 'Business',\n",
       " 'Puzzle',\n",
       " 'Parenting;Education',\n",
       " 'Simulation',\n",
       " 'Health & Fitness',\n",
       " 'Action',\n",
       " 'Strategy',\n",
       " 'Food & Drink',\n",
       " 'Medical',\n",
       " 'Finance',\n",
       " 'Social',\n",
       " 'Educational;Education',\n",
       " 'Travel & Local',\n",
       " 'Photography',\n",
       " 'Video Players & Editors',\n",
       " 'Entertainment;Music & Video',\n",
       " 'Trivia',\n",
       " 'Libraries & Demo',\n",
       " 'Books & Reference',\n",
       " 'Casual',\n",
       " 'Weather',\n",
       " 'Productivity',\n",
       " 'Racing;Action & Adventure',\n",
       " 'Events',\n",
       " 'Adventure',\n",
       " 'Art & Design',\n",
       " 'Books & Reference;Creativity',\n",
       " 'Beauty',\n",
       " 'Puzzle;Action & Adventure',\n",
       " 'Card',\n",
       " 'Board;Pretend Play',\n",
       " 'Word',\n",
       " 'Puzzle;Brain Games',\n",
       " 'Role Playing',\n",
       " 'Parenting',\n",
       " 'Racing',\n",
       " 'Comics',\n",
       " 'Educational',\n",
       " 'Board',\n",
       " 'Comics;Creativity',\n",
       " 'Art & Design;Creativity',\n",
       " 'Board;Brain Games',\n",
       " 'Simulation;Education',\n",
       " 'Adventure;Action & Adventure',\n",
       " 'Casual;Action & Adventure',\n",
       " 'Simulation;Pretend Play',\n",
       " 'Casual;Brain Games',\n",
       " 'Music & Audio;Music & Video',\n",
       " 'Educational;Creativity',\n",
       " 'Education;Pretend Play',\n",
       " 'Educational;Pretend Play',\n",
       " 'Education;Creativity',\n",
       " 'Board;Action & Adventure',\n",
       " 'Adventure;Brain Games',\n",
       " 'Action;Action & Adventure',\n",
       " 'Strategy;Action & Adventure',\n",
       " 'Lifestyle;Pretend Play',\n",
       " 'Health & Fitness;Education',\n",
       " 'Casual;Pretend Play',\n",
       " 'Role Playing;Action & Adventure',\n",
       " 'Arcade;Action & Adventure',\n",
       " 'Music',\n",
       " 'Card;Brain Games',\n",
       " 'Simulation;Action & Adventure',\n",
       " 'Entertainment;Brain Games',\n",
       " 'Entertainment;Creativity',\n",
       " 'Music;Music & Video',\n",
       " 'Education;Music & Video',\n",
       " 'Educational;Brain Games',\n",
       " 'Casual;Education',\n",
       " 'Entertainment;Action & Adventure',\n",
       " 'Education;Brain Games',\n",
       " 'Entertainment;Pretend Play',\n",
       " 'Puzzle;Education',\n",
       " 'Lifestyle;Education',\n",
       " 'Casual;Creativity',\n",
       " 'Education;Action & Adventure',\n",
       " 'Sports;Action & Adventure',\n",
       " 'Tools;Education',\n",
       " 'Role Playing;Pretend Play',\n",
       " 'Parenting;Music & Video',\n",
       " 'Parenting;Brain Games',\n",
       " 'Communication;Creativity',\n",
       " 'Art & Design;Action & Adventure',\n",
       " 'Strategy;Education',\n",
       " 'Racing;Pretend Play',\n",
       " 'Adventure;Education',\n",
       " 'Role Playing;Education',\n",
       " 'Role Playing;Brain Games',\n",
       " 'Educational;Action & Adventure',\n",
       " 'Arcade;Pretend Play',\n",
       " 'Entertainment;Education',\n",
       " 'Strategy;Creativity',\n",
       " 'Books & Reference;Education',\n",
       " 'Health & Fitness;Action & Adventure',\n",
       " 'Puzzle;Creativity',\n",
       " 'Art & Design;Pretend Play',\n",
       " 'Video Players & Editors;Music & Video',\n",
       " 'Card;Action & Adventure',\n",
       " 'Travel & Local;Action & Adventure']"
      ]
     },
     "execution_count": 478,
     "metadata": {},
     "output_type": "execute_result"
    }
   ],
   "source": [
    "#Lets check unique values in Genres column \n",
    "list(file['Genres'].unique())"
   ]
  },
  {
   "cell_type": "markdown",
   "id": "3195bf5d",
   "metadata": {},
   "source": [
    "In Genre we can see that there is redundancy there is Education as well as Educational so they must be same thus we will replace Educational with Education and \";\" must be replaced with \",\" because values are separated by \",\""
   ]
  },
  {
   "cell_type": "code",
   "execution_count": 479,
   "id": "9b86e916",
   "metadata": {},
   "outputs": [],
   "source": [
    "#Replacing Educational with Education in Genre Column\n",
    "file['Genres'] = file['Genres'].str.replace('Educational', 'Education')"
   ]
  },
  {
   "cell_type": "code",
   "execution_count": 480,
   "id": "27280027",
   "metadata": {},
   "outputs": [],
   "source": [
    "#Replacing \";\" with \",\" in Genre Column\n",
    "file['Genres'] = file['Genres'].str.replace(';', ',')"
   ]
  },
  {
   "cell_type": "code",
   "execution_count": 481,
   "id": "45431b35",
   "metadata": {},
   "outputs": [
    {
     "data": {
      "text/plain": [
       "0"
      ]
     },
     "execution_count": 481,
     "metadata": {},
     "output_type": "execute_result"
    }
   ],
   "source": [
    "#Lets see if it contains any null or na values\n",
    "file['Genres'].isna().sum()"
   ]
  },
  {
   "cell_type": "markdown",
   "id": "ae235be3",
   "metadata": {},
   "source": [
    "Our inspection of unique values has been done "
   ]
  },
  {
   "cell_type": "markdown",
   "id": "cd7c2d81",
   "metadata": {},
   "source": [
    "There are more things to be cleaned which we will do in excel so lets save this file now."
   ]
  },
  {
   "cell_type": "code",
   "execution_count": 451,
   "id": "11e4f316",
   "metadata": {},
   "outputs": [],
   "source": [
    "#lets save this file\n",
    "file.to_csv(\"playstore_apps_cleaned.csv\", encoding='utf-8')"
   ]
  },
  {
   "cell_type": "code",
   "execution_count": null,
   "id": "15469bfd",
   "metadata": {},
   "outputs": [],
   "source": []
  },
  {
   "cell_type": "code",
   "execution_count": null,
   "id": "3966715b",
   "metadata": {},
   "outputs": [],
   "source": []
  },
  {
   "cell_type": "code",
   "execution_count": null,
   "id": "61bf4557",
   "metadata": {},
   "outputs": [],
   "source": []
  },
  {
   "cell_type": "code",
   "execution_count": null,
   "id": "8756e0d8",
   "metadata": {},
   "outputs": [],
   "source": []
  },
  {
   "cell_type": "code",
   "execution_count": null,
   "id": "eb9236db",
   "metadata": {},
   "outputs": [],
   "source": []
  },
  {
   "cell_type": "code",
   "execution_count": null,
   "id": "3c7386b6",
   "metadata": {},
   "outputs": [],
   "source": []
  },
  {
   "cell_type": "code",
   "execution_count": null,
   "id": "16985649",
   "metadata": {},
   "outputs": [],
   "source": []
  },
  {
   "cell_type": "code",
   "execution_count": null,
   "id": "7a6d6ec7",
   "metadata": {},
   "outputs": [],
   "source": []
  },
  {
   "cell_type": "code",
   "execution_count": null,
   "id": "71372063",
   "metadata": {},
   "outputs": [],
   "source": []
  },
  {
   "cell_type": "code",
   "execution_count": null,
   "id": "ec4f08c5",
   "metadata": {},
   "outputs": [],
   "source": []
  },
  {
   "cell_type": "code",
   "execution_count": null,
   "id": "16b1fd6a",
   "metadata": {},
   "outputs": [],
   "source": []
  },
  {
   "cell_type": "code",
   "execution_count": null,
   "id": "7594ba07",
   "metadata": {},
   "outputs": [],
   "source": []
  },
  {
   "cell_type": "code",
   "execution_count": null,
   "id": "5a083729",
   "metadata": {},
   "outputs": [],
   "source": []
  },
  {
   "cell_type": "code",
   "execution_count": null,
   "id": "c6eb2b0f",
   "metadata": {},
   "outputs": [],
   "source": []
  },
  {
   "cell_type": "code",
   "execution_count": null,
   "id": "d9ac384a",
   "metadata": {},
   "outputs": [],
   "source": []
  }
 ],
 "metadata": {
  "kernelspec": {
   "display_name": "Python 3 (ipykernel)",
   "language": "python",
   "name": "python3"
  },
  "language_info": {
   "codemirror_mode": {
    "name": "ipython",
    "version": 3
   },
   "file_extension": ".py",
   "mimetype": "text/x-python",
   "name": "python",
   "nbconvert_exporter": "python",
   "pygments_lexer": "ipython3",
   "version": "3.9.7"
  }
 },
 "nbformat": 4,
 "nbformat_minor": 5
}
